{
  "nbformat": 4,
  "nbformat_minor": 0,
  "metadata": {
    "colab": {
      "provenance": [],
      "authorship_tag": "ABX9TyMlcK7Un9p3TDfBpvMwYU44",
      "include_colab_link": true
    },
    "kernelspec": {
      "name": "python3",
      "display_name": "Python 3"
    },
    "language_info": {
      "name": "python"
    }
  },
  "cells": [
    {
      "cell_type": "markdown",
      "metadata": {
        "id": "view-in-github",
        "colab_type": "text"
      },
      "source": [
        "<a href=\"https://colab.research.google.com/github/neovdn/all-projects/blob/master/Tugas_IDS.ipynb\" target=\"_parent\"><img src=\"https://colab.research.google.com/assets/colab-badge.svg\" alt=\"Open In Colab\"/></a>"
      ]
    },
    {
      "cell_type": "markdown",
      "source": [
        "Mengimpor library penting seperti pandas, numpy, sklearn, dan matplotlib untuk pengolahan data, modeling, dan visualisasi. Dataset Train_data.csv dan test_data.csv dimuat dari Kaggle, dengan kolom Unnamed: 0 dihapus dari data test untuk menjaga konsistensi."
      ],
      "metadata": {
        "id": "BqbAg81KZJpk"
      }
    },
    {
      "cell_type": "code",
      "execution_count": 1,
      "metadata": {
        "id": "XpmAx1lCXQ5b"
      },
      "outputs": [],
      "source": [
        "import pandas as pd\n",
        "import numpy as np\n",
        "from sklearn.preprocessing import LabelEncoder\n",
        "from sklearn.ensemble import RandomForestClassifier, GradientBoostingClassifier\n",
        "from sklearn.metrics import accuracy_score\n",
        "import warnings\n",
        "warnings.filterwarnings(\"ignore\")"
      ]
    },
    {
      "cell_type": "markdown",
      "source": [
        "Menggabungkan data train dan test untuk menerapkan encoding kategorikal secara konsisten menggunakan LabelEncoder pada kolom protocol_type, service, dan flag. Setelah encoding, data dipisah kembali menjadi train dan test, lalu fitur (X) dan target (y) dipisahkan untuk masing-masing set."
      ],
      "metadata": {
        "id": "buclmYRFZNCI"
      }
    },
    {
      "cell_type": "code",
      "source": [
        "df_train = pd.read_csv('/Train_data.csv')\n",
        "df_test = pd.read_csv('/test_data.csv')\n",
        "df_test = df_test.drop('Unnamed: 0', axis=1)"
      ],
      "metadata": {
        "id": "PPwwtvFiYMvX"
      },
      "execution_count": 3,
      "outputs": []
    },
    {
      "cell_type": "code",
      "source": [
        "df_combined = pd.concat([df_train, df_test], axis=0)\n",
        "\n",
        "# Encode categorical features\n",
        "le = LabelEncoder()\n",
        "categorical_cols = ['protocol_type', 'service', 'flag']\n",
        "for col in categorical_cols:\n",
        "    df_combined[col] = le.fit_transform(df_combined[col])\n",
        "\n",
        "# Split back into train and test\n",
        "df_train = df_combined.iloc[:len(df_train)]\n",
        "df_test = df_combined.iloc[len(df_train):]\n",
        "\n",
        "# Separate features and target\n",
        "X_train = df_train.drop('xAttack', axis=1)\n",
        "y_train = df_train['xAttack']\n",
        "X_test = df_test.drop('xAttack', axis=1)\n",
        "y_test = df_test['xAttack']"
      ],
      "metadata": {
        "id": "sEYaS_VSYara"
      },
      "execution_count": 4,
      "outputs": []
    },
    {
      "cell_type": "markdown",
      "source": [
        "Melatih RandomForestClassifier untuk menghitung skor pentingnya fitur, lalu memilih 15 fitur teratas berdasarkan feature_importances_. Data train dan test dibatasi pada fitur terpilih untuk efisiensi, dan daftar fitur yang dipilih dicetak untuk transparansi."
      ],
      "metadata": {
        "id": "eMqgNYfFZYZ0"
      }
    },
    {
      "cell_type": "code",
      "source": [
        "rf = RandomForestClassifier(n_estimators=50, random_state=42)\n",
        "rf.fit(X_train, y_train)\n",
        "\n",
        "# Select top 15 features based on importance\n",
        "feature_importance = pd.DataFrame({'feature': X_train.columns, 'importance': rf.feature_importances_})\n",
        "top_features = feature_importance.nlargest(15, 'importance')['feature'].tolist()\n",
        "X_train = X_train[top_features]\n",
        "X_test = X_test[top_features]\n",
        "\n",
        "print(\"Selected Features:\", top_features)"
      ],
      "metadata": {
        "colab": {
          "base_uri": "https://localhost:8080/"
        },
        "id": "TbR_KtpGYdsX",
        "outputId": "38038074-2b0c-4833-bbd8-4baf920aea83"
      },
      "execution_count": 5,
      "outputs": [
        {
          "output_type": "stream",
          "name": "stdout",
          "text": [
            "Selected Features: ['src_bytes', 'dst_bytes', 'diff_srv_rate', 'same_srv_rate', 'dst_host_serror_rate', 'count', 'srv_serror_rate', 'dst_host_same_src_port_rate', 'serror_rate', 'dst_host_same_srv_rate', 'dst_host_diff_srv_rate', 'dst_host_srv_serror_rate', 'service', 'srv_count', 'dst_host_srv_diff_host_rate']\n"
          ]
        }
      ]
    },
    {
      "cell_type": "markdown",
      "source": [
        "Mendefinisikan dua model ensemble, RandomForestClassifier dan GradientBoostingClassifier, masing-masing dengan 50 estimator untuk pelatihan cepat. Model dilatih pada fitur terpilih, dievaluasi pada data test menggunakan accuracy_score, dan akurasi masing-masing model dicetak."
      ],
      "metadata": {
        "id": "h_OqeZLWZmDV"
      }
    },
    {
      "cell_type": "code",
      "source": [
        "models = {\n",
        "    'RandomForest': RandomForestClassifier(n_estimators=50, random_state=42),\n",
        "    'GradientBoosting': GradientBoostingClassifier(n_estimators=50, random_state=42, loss='log_loss')\n",
        "}\n",
        "\n",
        "# Train and evaluate models\n",
        "results = {}\n",
        "for name, model in models.items():\n",
        "    model.fit(X_train, y_train)\n",
        "    y_pred = model.predict(X_test)\n",
        "    accuracy = accuracy_score(y_test, y_pred)\n",
        "    results[name] = accuracy\n",
        "    print(f\"{name} Accuracy: {accuracy:.3f}\")"
      ],
      "metadata": {
        "colab": {
          "base_uri": "https://localhost:8080/"
        },
        "id": "LQEqpQYfYhtl",
        "outputId": "cdf3a7b3-5a1f-473d-c21d-23738de5148c"
      },
      "execution_count": 6,
      "outputs": [
        {
          "output_type": "stream",
          "name": "stdout",
          "text": [
            "RandomForest Accuracy: 0.758\n",
            "GradientBoosting Accuracy: 0.756\n"
          ]
        }
      ]
    },
    {
      "cell_type": "markdown",
      "source": [
        "Membuat bar plot dengan matplotlib untuk membandingkan akurasi kedua model, dilengkapi dengan judul, label sumbu, grid, dan batas sumbu untuk visualisasi yang jelas dan informatif."
      ],
      "metadata": {
        "id": "iwfa8D9tZnyy"
      }
    },
    {
      "cell_type": "code",
      "source": [
        "import matplotlib.pyplot as plt\n",
        "\n",
        "# Plot model accuracies\n",
        "plt.figure(figsize=(8, 6))\n",
        "plt.bar(results.keys(), results.values(), color=['#4CAF50', '#2196F3'])\n",
        "plt.title('Model Accuracy Comparison')\n",
        "plt.ylabel('Accuracy')\n",
        "plt.ylim(0, 1)\n",
        "plt.grid(axis='y')\n",
        "plt.show()"
      ],
      "metadata": {
        "colab": {
          "base_uri": "https://localhost:8080/",
          "height": 545
        },
        "id": "TatZ7XywY0IJ",
        "outputId": "f1931f94-3609-48c8-acbe-567723340f42"
      },
      "execution_count": 7,
      "outputs": [
        {
          "output_type": "display_data",
          "data": {
            "text/plain": [
              "<Figure size 800x600 with 1 Axes>"
            ],
            "image/png": "[encoded data removed]"
          },
          "metadata": {}
        }
      ]
    }
  ]
}